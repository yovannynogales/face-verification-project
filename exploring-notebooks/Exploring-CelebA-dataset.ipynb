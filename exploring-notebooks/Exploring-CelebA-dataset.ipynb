{
 "cells": [
  {
   "cell_type": "markdown",
   "metadata": {},
   "source": [
    "# Importing the dependencies"
   ]
  },
  {
   "cell_type": "code",
   "execution_count": 8,
   "metadata": {},
   "outputs": [],
   "source": [
    "\n",
    "%matplotlib inline\n",
    "import pandas as pd\n",
    "import matplotlib.pyplot as plt\n",
    "import numpy as np\n",
    "from PIL import Image\n",
    "from IPython.display import display\n",
    "from sklearn.model_selection import train_test_split"
   ]
  },
  {
   "cell_type": "markdown",
   "metadata": {},
   "source": [
    "# Importing the dataset"
   ]
  },
  {
   "cell_type": "code",
   "execution_count": 9,
   "metadata": {},
   "outputs": [
    {
     "name": "stderr",
     "output_type": "stream",
     "text": [
      "/var/folders/dy/7208831x73jbhnb8lyw0p9lr0000gq/T/ipykernel_81904/1864921727.py:1: FutureWarning: The 'delim_whitespace' keyword in pd.read_csv is deprecated and will be removed in a future version. Use ``sep='\\s+'`` instead\n",
      "  celeba_dataset = pd.read_csv(\n"
     ]
    }
   ],
   "source": [
    "celeba_dataset = pd.read_csv(\n",
    "    '/Users/lucio.nogales/Documents/Master-degree-projects/Pattern recognition project/data/celeba-dataset/list_attr_celeba.txt',\n",
    "    delim_whitespace=True,)"
   ]
  },
  {
   "cell_type": "markdown",
   "metadata": {},
   "source": [
    "# Exploring the dataset"
   ]
  },
  {
   "cell_type": "code",
   "execution_count": 11,
   "metadata": {},
   "outputs": [
    {
     "data": {
      "text/plain": [
       "(202599, 40)"
      ]
     },
     "execution_count": 11,
     "metadata": {},
     "output_type": "execute_result"
    }
   ],
   "source": [
    "celeba_dataset.shape"
   ]
  },
  {
   "cell_type": "code",
   "execution_count": 12,
   "metadata": {},
   "outputs": [
    {
     "name": "stdout",
     "output_type": "stream",
     "text": [
      "<class 'pandas.core.frame.DataFrame'>\n",
      "Index: 202599 entries, 000001.jpg to 202599.jpg\n",
      "Data columns (total 40 columns):\n",
      " #   Column               Non-Null Count   Dtype\n",
      "---  ------               --------------   -----\n",
      " 0   5_o_Clock_Shadow     202599 non-null  int64\n",
      " 1   Arched_Eyebrows      202599 non-null  int64\n",
      " 2   Attractive           202599 non-null  int64\n",
      " 3   Bags_Under_Eyes      202599 non-null  int64\n",
      " 4   Bald                 202599 non-null  int64\n",
      " 5   Bangs                202599 non-null  int64\n",
      " 6   Big_Lips             202599 non-null  int64\n",
      " 7   Big_Nose             202599 non-null  int64\n",
      " 8   Black_Hair           202599 non-null  int64\n",
      " 9   Blond_Hair           202599 non-null  int64\n",
      " 10  Blurry               202599 non-null  int64\n",
      " 11  Brown_Hair           202599 non-null  int64\n",
      " 12  Bushy_Eyebrows       202599 non-null  int64\n",
      " 13  Chubby               202599 non-null  int64\n",
      " 14  Double_Chin          202599 non-null  int64\n",
      " 15  Eyeglasses           202599 non-null  int64\n",
      " 16  Goatee               202599 non-null  int64\n",
      " 17  Gray_Hair            202599 non-null  int64\n",
      " 18  Heavy_Makeup         202599 non-null  int64\n",
      " 19  High_Cheekbones      202599 non-null  int64\n",
      " 20  Male                 202599 non-null  int64\n",
      " 21  Mouth_Slightly_Open  202599 non-null  int64\n",
      " 22  Mustache             202599 non-null  int64\n",
      " 23  Narrow_Eyes          202599 non-null  int64\n",
      " 24  No_Beard             202599 non-null  int64\n",
      " 25  Oval_Face            202599 non-null  int64\n",
      " 26  Pale_Skin            202599 non-null  int64\n",
      " 27  Pointy_Nose          202599 non-null  int64\n",
      " 28  Receding_Hairline    202599 non-null  int64\n",
      " 29  Rosy_Cheeks          202599 non-null  int64\n",
      " 30  Sideburns            202599 non-null  int64\n",
      " 31  Smiling              202599 non-null  int64\n",
      " 32  Straight_Hair        202599 non-null  int64\n",
      " 33  Wavy_Hair            202599 non-null  int64\n",
      " 34  Wearing_Earrings     202599 non-null  int64\n",
      " 35  Wearing_Hat          202599 non-null  int64\n",
      " 36  Wearing_Lipstick     202599 non-null  int64\n",
      " 37  Wearing_Necklace     202599 non-null  int64\n",
      " 38  Wearing_Necktie      202599 non-null  int64\n",
      " 39  Young                202599 non-null  int64\n",
      "dtypes: int64(40)\n",
      "memory usage: 63.4+ MB\n"
     ]
    }
   ],
   "source": [
    "celeba_dataset.info()"
   ]
  },
  {
   "cell_type": "code",
   "execution_count": 13,
   "metadata": {},
   "outputs": [
    {
     "data": {
      "text/html": [
       "<div>\n",
       "<style scoped>\n",
       "    .dataframe tbody tr th:only-of-type {\n",
       "        vertical-align: middle;\n",
       "    }\n",
       "\n",
       "    .dataframe tbody tr th {\n",
       "        vertical-align: top;\n",
       "    }\n",
       "\n",
       "    .dataframe thead th {\n",
       "        text-align: right;\n",
       "    }\n",
       "</style>\n",
       "<table border=\"1\" class=\"dataframe\">\n",
       "  <thead>\n",
       "    <tr style=\"text-align: right;\">\n",
       "      <th></th>\n",
       "      <th>5_o_Clock_Shadow</th>\n",
       "      <th>Arched_Eyebrows</th>\n",
       "      <th>Attractive</th>\n",
       "      <th>Bags_Under_Eyes</th>\n",
       "      <th>Bald</th>\n",
       "      <th>Bangs</th>\n",
       "      <th>Big_Lips</th>\n",
       "      <th>Big_Nose</th>\n",
       "      <th>Black_Hair</th>\n",
       "      <th>Blond_Hair</th>\n",
       "      <th>...</th>\n",
       "      <th>Sideburns</th>\n",
       "      <th>Smiling</th>\n",
       "      <th>Straight_Hair</th>\n",
       "      <th>Wavy_Hair</th>\n",
       "      <th>Wearing_Earrings</th>\n",
       "      <th>Wearing_Hat</th>\n",
       "      <th>Wearing_Lipstick</th>\n",
       "      <th>Wearing_Necklace</th>\n",
       "      <th>Wearing_Necktie</th>\n",
       "      <th>Young</th>\n",
       "    </tr>\n",
       "  </thead>\n",
       "  <tbody>\n",
       "    <tr>\n",
       "      <th>000001.jpg</th>\n",
       "      <td>-1</td>\n",
       "      <td>1</td>\n",
       "      <td>1</td>\n",
       "      <td>-1</td>\n",
       "      <td>-1</td>\n",
       "      <td>-1</td>\n",
       "      <td>-1</td>\n",
       "      <td>-1</td>\n",
       "      <td>-1</td>\n",
       "      <td>-1</td>\n",
       "      <td>...</td>\n",
       "      <td>-1</td>\n",
       "      <td>1</td>\n",
       "      <td>1</td>\n",
       "      <td>-1</td>\n",
       "      <td>1</td>\n",
       "      <td>-1</td>\n",
       "      <td>1</td>\n",
       "      <td>-1</td>\n",
       "      <td>-1</td>\n",
       "      <td>1</td>\n",
       "    </tr>\n",
       "    <tr>\n",
       "      <th>000002.jpg</th>\n",
       "      <td>-1</td>\n",
       "      <td>-1</td>\n",
       "      <td>-1</td>\n",
       "      <td>1</td>\n",
       "      <td>-1</td>\n",
       "      <td>-1</td>\n",
       "      <td>-1</td>\n",
       "      <td>1</td>\n",
       "      <td>-1</td>\n",
       "      <td>-1</td>\n",
       "      <td>...</td>\n",
       "      <td>-1</td>\n",
       "      <td>1</td>\n",
       "      <td>-1</td>\n",
       "      <td>-1</td>\n",
       "      <td>-1</td>\n",
       "      <td>-1</td>\n",
       "      <td>-1</td>\n",
       "      <td>-1</td>\n",
       "      <td>-1</td>\n",
       "      <td>1</td>\n",
       "    </tr>\n",
       "    <tr>\n",
       "      <th>000003.jpg</th>\n",
       "      <td>-1</td>\n",
       "      <td>-1</td>\n",
       "      <td>-1</td>\n",
       "      <td>-1</td>\n",
       "      <td>-1</td>\n",
       "      <td>-1</td>\n",
       "      <td>1</td>\n",
       "      <td>-1</td>\n",
       "      <td>-1</td>\n",
       "      <td>-1</td>\n",
       "      <td>...</td>\n",
       "      <td>-1</td>\n",
       "      <td>-1</td>\n",
       "      <td>-1</td>\n",
       "      <td>1</td>\n",
       "      <td>-1</td>\n",
       "      <td>-1</td>\n",
       "      <td>-1</td>\n",
       "      <td>-1</td>\n",
       "      <td>-1</td>\n",
       "      <td>1</td>\n",
       "    </tr>\n",
       "    <tr>\n",
       "      <th>000004.jpg</th>\n",
       "      <td>-1</td>\n",
       "      <td>-1</td>\n",
       "      <td>1</td>\n",
       "      <td>-1</td>\n",
       "      <td>-1</td>\n",
       "      <td>-1</td>\n",
       "      <td>-1</td>\n",
       "      <td>-1</td>\n",
       "      <td>-1</td>\n",
       "      <td>-1</td>\n",
       "      <td>...</td>\n",
       "      <td>-1</td>\n",
       "      <td>-1</td>\n",
       "      <td>1</td>\n",
       "      <td>-1</td>\n",
       "      <td>1</td>\n",
       "      <td>-1</td>\n",
       "      <td>1</td>\n",
       "      <td>1</td>\n",
       "      <td>-1</td>\n",
       "      <td>1</td>\n",
       "    </tr>\n",
       "    <tr>\n",
       "      <th>000005.jpg</th>\n",
       "      <td>-1</td>\n",
       "      <td>1</td>\n",
       "      <td>1</td>\n",
       "      <td>-1</td>\n",
       "      <td>-1</td>\n",
       "      <td>-1</td>\n",
       "      <td>1</td>\n",
       "      <td>-1</td>\n",
       "      <td>-1</td>\n",
       "      <td>-1</td>\n",
       "      <td>...</td>\n",
       "      <td>-1</td>\n",
       "      <td>-1</td>\n",
       "      <td>-1</td>\n",
       "      <td>-1</td>\n",
       "      <td>-1</td>\n",
       "      <td>-1</td>\n",
       "      <td>1</td>\n",
       "      <td>-1</td>\n",
       "      <td>-1</td>\n",
       "      <td>1</td>\n",
       "    </tr>\n",
       "  </tbody>\n",
       "</table>\n",
       "<p>5 rows × 40 columns</p>\n",
       "</div>"
      ],
      "text/plain": [
       "            5_o_Clock_Shadow  Arched_Eyebrows  Attractive  Bags_Under_Eyes  \\\n",
       "000001.jpg                -1                1           1               -1   \n",
       "000002.jpg                -1               -1          -1                1   \n",
       "000003.jpg                -1               -1          -1               -1   \n",
       "000004.jpg                -1               -1           1               -1   \n",
       "000005.jpg                -1                1           1               -1   \n",
       "\n",
       "            Bald  Bangs  Big_Lips  Big_Nose  Black_Hair  Blond_Hair  ...  \\\n",
       "000001.jpg    -1     -1        -1        -1          -1          -1  ...   \n",
       "000002.jpg    -1     -1        -1         1          -1          -1  ...   \n",
       "000003.jpg    -1     -1         1        -1          -1          -1  ...   \n",
       "000004.jpg    -1     -1        -1        -1          -1          -1  ...   \n",
       "000005.jpg    -1     -1         1        -1          -1          -1  ...   \n",
       "\n",
       "            Sideburns  Smiling  Straight_Hair  Wavy_Hair  Wearing_Earrings  \\\n",
       "000001.jpg         -1        1              1         -1                 1   \n",
       "000002.jpg         -1        1             -1         -1                -1   \n",
       "000003.jpg         -1       -1             -1          1                -1   \n",
       "000004.jpg         -1       -1              1         -1                 1   \n",
       "000005.jpg         -1       -1             -1         -1                -1   \n",
       "\n",
       "            Wearing_Hat  Wearing_Lipstick  Wearing_Necklace  Wearing_Necktie  \\\n",
       "000001.jpg           -1                 1                -1               -1   \n",
       "000002.jpg           -1                -1                -1               -1   \n",
       "000003.jpg           -1                -1                -1               -1   \n",
       "000004.jpg           -1                 1                 1               -1   \n",
       "000005.jpg           -1                 1                -1               -1   \n",
       "\n",
       "            Young  \n",
       "000001.jpg      1  \n",
       "000002.jpg      1  \n",
       "000003.jpg      1  \n",
       "000004.jpg      1  \n",
       "000005.jpg      1  \n",
       "\n",
       "[5 rows x 40 columns]"
      ]
     },
     "execution_count": 13,
     "metadata": {},
     "output_type": "execute_result"
    }
   ],
   "source": [
    "celeba_dataset.head()"
   ]
  },
  {
   "cell_type": "code",
   "execution_count": 14,
   "metadata": {},
   "outputs": [
    {
     "data": {
      "text/html": [
       "<div>\n",
       "<style scoped>\n",
       "    .dataframe tbody tr th:only-of-type {\n",
       "        vertical-align: middle;\n",
       "    }\n",
       "\n",
       "    .dataframe tbody tr th {\n",
       "        vertical-align: top;\n",
       "    }\n",
       "\n",
       "    .dataframe thead th {\n",
       "        text-align: right;\n",
       "    }\n",
       "</style>\n",
       "<table border=\"1\" class=\"dataframe\">\n",
       "  <thead>\n",
       "    <tr style=\"text-align: right;\">\n",
       "      <th></th>\n",
       "      <th>5_o_Clock_Shadow</th>\n",
       "      <th>Arched_Eyebrows</th>\n",
       "      <th>Attractive</th>\n",
       "      <th>Bags_Under_Eyes</th>\n",
       "      <th>Bald</th>\n",
       "      <th>Bangs</th>\n",
       "      <th>Big_Lips</th>\n",
       "      <th>Big_Nose</th>\n",
       "      <th>Black_Hair</th>\n",
       "      <th>Blond_Hair</th>\n",
       "      <th>...</th>\n",
       "      <th>Sideburns</th>\n",
       "      <th>Smiling</th>\n",
       "      <th>Straight_Hair</th>\n",
       "      <th>Wavy_Hair</th>\n",
       "      <th>Wearing_Earrings</th>\n",
       "      <th>Wearing_Hat</th>\n",
       "      <th>Wearing_Lipstick</th>\n",
       "      <th>Wearing_Necklace</th>\n",
       "      <th>Wearing_Necktie</th>\n",
       "      <th>Young</th>\n",
       "    </tr>\n",
       "  </thead>\n",
       "  <tbody>\n",
       "    <tr>\n",
       "      <th>202595.jpg</th>\n",
       "      <td>-1</td>\n",
       "      <td>-1</td>\n",
       "      <td>1</td>\n",
       "      <td>-1</td>\n",
       "      <td>-1</td>\n",
       "      <td>-1</td>\n",
       "      <td>1</td>\n",
       "      <td>-1</td>\n",
       "      <td>-1</td>\n",
       "      <td>1</td>\n",
       "      <td>...</td>\n",
       "      <td>-1</td>\n",
       "      <td>-1</td>\n",
       "      <td>-1</td>\n",
       "      <td>-1</td>\n",
       "      <td>-1</td>\n",
       "      <td>-1</td>\n",
       "      <td>1</td>\n",
       "      <td>-1</td>\n",
       "      <td>-1</td>\n",
       "      <td>1</td>\n",
       "    </tr>\n",
       "    <tr>\n",
       "      <th>202596.jpg</th>\n",
       "      <td>-1</td>\n",
       "      <td>-1</td>\n",
       "      <td>-1</td>\n",
       "      <td>-1</td>\n",
       "      <td>-1</td>\n",
       "      <td>1</td>\n",
       "      <td>1</td>\n",
       "      <td>-1</td>\n",
       "      <td>-1</td>\n",
       "      <td>1</td>\n",
       "      <td>...</td>\n",
       "      <td>-1</td>\n",
       "      <td>1</td>\n",
       "      <td>1</td>\n",
       "      <td>-1</td>\n",
       "      <td>-1</td>\n",
       "      <td>-1</td>\n",
       "      <td>-1</td>\n",
       "      <td>-1</td>\n",
       "      <td>-1</td>\n",
       "      <td>1</td>\n",
       "    </tr>\n",
       "    <tr>\n",
       "      <th>202597.jpg</th>\n",
       "      <td>-1</td>\n",
       "      <td>-1</td>\n",
       "      <td>-1</td>\n",
       "      <td>-1</td>\n",
       "      <td>-1</td>\n",
       "      <td>-1</td>\n",
       "      <td>-1</td>\n",
       "      <td>-1</td>\n",
       "      <td>1</td>\n",
       "      <td>-1</td>\n",
       "      <td>...</td>\n",
       "      <td>-1</td>\n",
       "      <td>1</td>\n",
       "      <td>-1</td>\n",
       "      <td>-1</td>\n",
       "      <td>-1</td>\n",
       "      <td>-1</td>\n",
       "      <td>-1</td>\n",
       "      <td>-1</td>\n",
       "      <td>-1</td>\n",
       "      <td>1</td>\n",
       "    </tr>\n",
       "    <tr>\n",
       "      <th>202598.jpg</th>\n",
       "      <td>-1</td>\n",
       "      <td>1</td>\n",
       "      <td>1</td>\n",
       "      <td>-1</td>\n",
       "      <td>-1</td>\n",
       "      <td>-1</td>\n",
       "      <td>1</td>\n",
       "      <td>-1</td>\n",
       "      <td>1</td>\n",
       "      <td>-1</td>\n",
       "      <td>...</td>\n",
       "      <td>-1</td>\n",
       "      <td>1</td>\n",
       "      <td>-1</td>\n",
       "      <td>1</td>\n",
       "      <td>1</td>\n",
       "      <td>-1</td>\n",
       "      <td>1</td>\n",
       "      <td>-1</td>\n",
       "      <td>-1</td>\n",
       "      <td>1</td>\n",
       "    </tr>\n",
       "    <tr>\n",
       "      <th>202599.jpg</th>\n",
       "      <td>-1</td>\n",
       "      <td>1</td>\n",
       "      <td>1</td>\n",
       "      <td>-1</td>\n",
       "      <td>-1</td>\n",
       "      <td>-1</td>\n",
       "      <td>-1</td>\n",
       "      <td>-1</td>\n",
       "      <td>-1</td>\n",
       "      <td>1</td>\n",
       "      <td>...</td>\n",
       "      <td>-1</td>\n",
       "      <td>-1</td>\n",
       "      <td>-1</td>\n",
       "      <td>1</td>\n",
       "      <td>-1</td>\n",
       "      <td>-1</td>\n",
       "      <td>1</td>\n",
       "      <td>-1</td>\n",
       "      <td>-1</td>\n",
       "      <td>1</td>\n",
       "    </tr>\n",
       "  </tbody>\n",
       "</table>\n",
       "<p>5 rows × 40 columns</p>\n",
       "</div>"
      ],
      "text/plain": [
       "            5_o_Clock_Shadow  Arched_Eyebrows  Attractive  Bags_Under_Eyes  \\\n",
       "202595.jpg                -1               -1           1               -1   \n",
       "202596.jpg                -1               -1          -1               -1   \n",
       "202597.jpg                -1               -1          -1               -1   \n",
       "202598.jpg                -1                1           1               -1   \n",
       "202599.jpg                -1                1           1               -1   \n",
       "\n",
       "            Bald  Bangs  Big_Lips  Big_Nose  Black_Hair  Blond_Hair  ...  \\\n",
       "202595.jpg    -1     -1         1        -1          -1           1  ...   \n",
       "202596.jpg    -1      1         1        -1          -1           1  ...   \n",
       "202597.jpg    -1     -1        -1        -1           1          -1  ...   \n",
       "202598.jpg    -1     -1         1        -1           1          -1  ...   \n",
       "202599.jpg    -1     -1        -1        -1          -1           1  ...   \n",
       "\n",
       "            Sideburns  Smiling  Straight_Hair  Wavy_Hair  Wearing_Earrings  \\\n",
       "202595.jpg         -1       -1             -1         -1                -1   \n",
       "202596.jpg         -1        1              1         -1                -1   \n",
       "202597.jpg         -1        1             -1         -1                -1   \n",
       "202598.jpg         -1        1             -1          1                 1   \n",
       "202599.jpg         -1       -1             -1          1                -1   \n",
       "\n",
       "            Wearing_Hat  Wearing_Lipstick  Wearing_Necklace  Wearing_Necktie  \\\n",
       "202595.jpg           -1                 1                -1               -1   \n",
       "202596.jpg           -1                -1                -1               -1   \n",
       "202597.jpg           -1                -1                -1               -1   \n",
       "202598.jpg           -1                 1                -1               -1   \n",
       "202599.jpg           -1                 1                -1               -1   \n",
       "\n",
       "            Young  \n",
       "202595.jpg      1  \n",
       "202596.jpg      1  \n",
       "202597.jpg      1  \n",
       "202598.jpg      1  \n",
       "202599.jpg      1  \n",
       "\n",
       "[5 rows x 40 columns]"
      ]
     },
     "execution_count": 14,
     "metadata": {},
     "output_type": "execute_result"
    }
   ],
   "source": [
    "celeba_dataset.tail()"
   ]
  },
  {
   "cell_type": "code",
   "execution_count": 15,
   "metadata": {},
   "outputs": [
    {
     "data": {
      "text/plain": [
       "Index(['5_o_Clock_Shadow', 'Arched_Eyebrows', 'Attractive', 'Bags_Under_Eyes',\n",
       "       'Bald', 'Bangs', 'Big_Lips', 'Big_Nose', 'Black_Hair', 'Blond_Hair',\n",
       "       'Blurry', 'Brown_Hair', 'Bushy_Eyebrows', 'Chubby', 'Double_Chin',\n",
       "       'Eyeglasses', 'Goatee', 'Gray_Hair', 'Heavy_Makeup', 'High_Cheekbones',\n",
       "       'Male', 'Mouth_Slightly_Open', 'Mustache', 'Narrow_Eyes', 'No_Beard',\n",
       "       'Oval_Face', 'Pale_Skin', 'Pointy_Nose', 'Receding_Hairline',\n",
       "       'Rosy_Cheeks', 'Sideburns', 'Smiling', 'Straight_Hair', 'Wavy_Hair',\n",
       "       'Wearing_Earrings', 'Wearing_Hat', 'Wearing_Lipstick',\n",
       "       'Wearing_Necklace', 'Wearing_Necktie', 'Young'],\n",
       "      dtype='object')"
      ]
     },
     "execution_count": 15,
     "metadata": {},
     "output_type": "execute_result"
    }
   ],
   "source": [
    "celeba_dataset.columns"
   ]
  },
  {
   "cell_type": "code",
   "execution_count": 16,
   "metadata": {},
   "outputs": [
    {
     "name": "stdout",
     "output_type": "stream",
     "text": [
      "Quantity of rows: 202599\n",
      "Random index row: 6729\n"
     ]
    }
   ],
   "source": [
    "random_person_index = np.random.randint(0, celeba_dataset.shape[0])\n",
    "print(\"Quantity of rows:\", celeba_dataset.shape[0])\n",
    "print(\"Random index row:\", random_person_index)"
   ]
  },
  {
   "cell_type": "code",
   "execution_count": 21,
   "metadata": {},
   "outputs": [
    {
     "data": {
      "text/plain": [
       "5_o_Clock_Shadow      -1\n",
       "Arched_Eyebrows       -1\n",
       "Attractive            -1\n",
       "Bags_Under_Eyes        1\n",
       "Bald                  -1\n",
       "Bangs                 -1\n",
       "Big_Lips              -1\n",
       "Big_Nose              -1\n",
       "Black_Hair            -1\n",
       "Blond_Hair            -1\n",
       "Blurry                -1\n",
       "Brown_Hair            -1\n",
       "Bushy_Eyebrows        -1\n",
       "Chubby                -1\n",
       "Double_Chin           -1\n",
       "Eyeglasses            -1\n",
       "Goatee                -1\n",
       "Gray_Hair             -1\n",
       "Heavy_Makeup          -1\n",
       "High_Cheekbones       -1\n",
       "Male                   1\n",
       "Mouth_Slightly_Open    1\n",
       "Mustache              -1\n",
       "Narrow_Eyes            1\n",
       "No_Beard               1\n",
       "Oval_Face             -1\n",
       "Pale_Skin             -1\n",
       "Pointy_Nose            1\n",
       "Receding_Hairline     -1\n",
       "Rosy_Cheeks           -1\n",
       "Sideburns             -1\n",
       "Smiling               -1\n",
       "Straight_Hair         -1\n",
       "Wavy_Hair             -1\n",
       "Wearing_Earrings      -1\n",
       "Wearing_Hat           -1\n",
       "Wearing_Lipstick      -1\n",
       "Wearing_Necklace      -1\n",
       "Wearing_Necktie       -1\n",
       "Young                  1\n",
       "Name: 006730.jpg, dtype: int64"
      ]
     },
     "execution_count": 21,
     "metadata": {},
     "output_type": "execute_result"
    }
   ],
   "source": [
    "random_person = celeba_dataset.iloc[random_person_index]\n",
    "random_person"
   ]
  },
  {
   "cell_type": "markdown",
   "metadata": {},
   "source": [
    "# Visualizing images"
   ]
  },
  {
   "cell_type": "code",
   "execution_count": 25,
   "metadata": {},
   "outputs": [
    {
     "data": {
      "image/jpeg": "[encoded data removed]",
      "image/png": "[encoded data removed]",
      "text/plain": [
       "<PIL.JpegImagePlugin.JpegImageFile image mode=RGB size=178x218>"
      ]
     },
     "metadata": {},
     "output_type": "display_data"
    }
   ],
   "source": [
    "img = Image.open('/Users/lucio.nogales/Documents/Master-degree-projects/Pattern recognition project/data/celeba-dataset/img_align_celeba/' + celeba_dataset.iloc[random_person_index].name)\n",
    "display(img)"
   ]
  },
  {
   "cell_type": "markdown",
   "metadata": {},
   "source": [
    "# Saving the new dataset"
   ]
  },
  {
   "cell_type": "code",
   "execution_count": 26,
   "metadata": {},
   "outputs": [],
   "source": [
    "celeba_dataset.to_pickle('/Users/lucio.nogales/Documents/Master-degree-projects/Pattern recognition project/data/celeba-dataset/dataset-attributes.pkl')"
   ]
  },
  {
   "cell_type": "markdown",
   "metadata": {},
   "source": [
    "# Spliting up the dataset"
   ]
  },
  {
   "cell_type": "code",
   "execution_count": 11,
   "metadata": {},
   "outputs": [],
   "source": [
    "training_set, temp_set = train_test_split(celeba_dataset, test_size=0.4, random_state=42)\n",
    "validation_set, test_set = train_test_split(temp_set, test_size=0.5, random_state=42)"
   ]
  },
  {
   "cell_type": "code",
   "execution_count": 12,
   "metadata": {},
   "outputs": [
    {
     "name": "stdout",
     "output_type": "stream",
     "text": [
      "Training set (121559, 40)\n",
      "Test set (40520, 40)\n",
      "Val set (40520, 40)\n"
     ]
    }
   ],
   "source": [
    "print('Training set', training_set.shape)\n",
    "print('Test set', test_set.shape)\n",
    "print('Val set', validation_set.shape)"
   ]
  },
  {
   "cell_type": "markdown",
   "metadata": {},
   "source": [
    "# Saving the datasets"
   ]
  },
  {
   "cell_type": "code",
   "execution_count": 14,
   "metadata": {},
   "outputs": [],
   "source": [
    "training_set.to_pickle('/Users/lucio.nogales/Documents/Master-degree-projects/Pattern recognition project/data/celeba-dataset/train-dataset-attributes.pkl')\n",
    "test_set.to_pickle('/Users/lucio.nogales/Documents/Master-degree-projects/Pattern recognition project/data/celeba-dataset/test-dataset-attributes.pkl')\n",
    "validation_set.to_pickle('/Users/lucio.nogales/Documents/Master-degree-projects/Pattern recognition project/data/celeba-dataset/val-dataset-attributes.pkl')"
   ]
  },
  {
   "cell_type": "code",
   "execution_count": null,
   "metadata": {},
   "outputs": [],
   "source": []
  }
 ],
 "metadata": {
  "kernelspec": {
   "display_name": "projects-kernal",
   "language": "python",
   "name": "projects-kernal"
  },
  "language_info": {
   "codemirror_mode": {
    "name": "ipython",
    "version": 3
   },
   "file_extension": ".py",
   "mimetype": "text/x-python",
   "name": "python",
   "nbconvert_exporter": "python",
   "pygments_lexer": "ipython3",
   "version": "3.11.10"
  }
 },
 "nbformat": 4,
 "nbformat_minor": 2
}
